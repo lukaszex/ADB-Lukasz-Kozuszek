{
 "cells": [
  {
   "cell_type": "code",
   "execution_count": 7,
   "metadata": {},
   "outputs": [
    {
     "name": "stdout",
     "output_type": "stream",
     "text": [
      "3280.7316257200923 ,  4467 ,  2j ,  7747.731625720093 ,  (7747.731625720093+2j)\n",
      "<class 'float'> <class 'int'> <class 'complex'> <class 'float'> <class 'complex'>\n"
     ]
    }
   ],
   "source": [
    "from math import sqrt, pi\n",
    "k = 1240 * sqrt(7)\n",
    "m = 4467\n",
    "l = 2j\n",
    "d = k + m\n",
    "c = d + l\n",
    "\n",
    "print (k, ', ', m, ', ', l, ', ', d, ', ', c)\n",
    "print (type(k), type(m), type(l), type(d), type(c))"
   ]
  },
  {
   "cell_type": "code",
   "execution_count": 8,
   "metadata": {},
   "outputs": [
    {
     "name": "stdout",
     "output_type": "stream",
     "text": [
      "7747.731625720093\n",
      "7747.732\n",
      "7747.73162572009277937468\n"
     ]
    }
   ],
   "source": [
    "print (d)\n",
    "print (\"{0:0.3f}\".format(d))\n",
    "print (\"{0:0.20f}\".format(d))"
   ]
  },
  {
   "cell_type": "code",
   "execution_count": 10,
   "metadata": {},
   "outputs": [
    {
     "name": "stdout",
     "output_type": "stream",
     "text": [
      "5340.707511102648\n"
     ]
    }
   ],
   "source": [
    "S = 2*pi*17**2 + 2*pi*17*33\n",
    "print (S)"
   ]
  },
  {
   "cell_type": "code",
   "execution_count": 11,
   "metadata": {},
   "outputs": [
    {
     "data": {
      "text/plain": [
       "'\\nMultiline comments\\nble ble ble\\n'"
      ]
     },
     "execution_count": 11,
     "metadata": {},
     "output_type": "execute_result"
    }
   ],
   "source": [
    "\"\"\"\n",
    "Multiline comments\n",
    "ble ble ble\n",
    "\"\"\""
   ]
  },
  {
   "cell_type": "code",
   "execution_count": 14,
   "metadata": {},
   "outputs": [
    {
     "name": "stdout",
     "output_type": "stream",
     "text": [
      "0.4700465838237791\n"
     ]
    }
   ],
   "source": [
    "import numpy as np\n",
    "def func (x1, t, r):\n",
    "    return (x1 + r)/(r*np.sin(2*x1) + 3.3456)*x1**(t*r)\n",
    "print (func(1, 1, 1))"
   ]
  },
  {
   "cell_type": "code",
   "execution_count": 17,
   "metadata": {},
   "outputs": [
    {
     "name": "stdout",
     "output_type": "stream",
     "text": [
      "[[ 0.10355339  0.75       -0.60355339]\n",
      " [ 0.35355339  0.14644661  0.35355339]\n",
      " [-0.35355339  0.85355339 -0.35355339]]\n",
      "-4.0\n",
      "[[ 1.41421356  0.         -1.41421356]\n",
      " [ 1.          1.          1.41421356]\n",
      " [-1.41421356  1.          1.        ]]\n"
     ]
    }
   ],
   "source": [
    "M = np.array([[sqrt(2), 1, -sqrt(2)], [0, 1, 1], [-sqrt(2), sqrt(2), 1]])\n",
    "print (np.linalg.inv(M))\n",
    "print (np.linalg.det(M))\n",
    "print (np.transpose(M))"
   ]
  },
  {
   "cell_type": "code",
   "execution_count": 23,
   "metadata": {},
   "outputs": [
    {
     "name": "stdout",
     "output_type": "stream",
     "text": [
      "1.4142135623730951 1.0 1.4142135623730951\n",
      "[-1.41421356  1.          1.        ]\n",
      "[0. 1. 1.]\n"
     ]
    }
   ],
   "source": [
    "print (M[0, 0], M[2, 2], M[2, 1])\n",
    "print (M[:, 2])\n",
    "print (M[1, :])"
   ]
  },
  {
   "cell_type": "markdown",
   "metadata": {},
   "source": [
    "$W(x) = x^{5} − 7⋅x^{4} + 3⋅x^{3} + 43⋅x^{2} − 28⋅x − 60$"
   ]
  },
  {
   "cell_type": "code",
   "execution_count": 24,
   "metadata": {},
   "outputs": [
    {
     "name": "stdout",
     "output_type": "stream",
     "text": [
      "[ 5.  3.  2. -2. -1.]\n"
     ]
    }
   ],
   "source": [
    "print (np.roots([1, -7, 3, 43, -28, -60]))"
   ]
  },
  {
   "cell_type": "code",
   "execution_count": 27,
   "metadata": {},
   "outputs": [
    {
     "name": "stdout",
     "output_type": "stream",
     "text": [
      "[ 0.   1.5  3.   4.5  6.   7.5  9.  10.5 12.  13.5]\n",
      "[ 0.          1.66666667  3.33333333  5.          6.66666667  8.33333333\n",
      " 10.         11.66666667 13.33333333 15.        ]\n"
     ]
    }
   ],
   "source": [
    "print (np.arange(0, 15, 1.5))\n",
    "print (np.linspace(0, 15, 10))"
   ]
  },
  {
   "cell_type": "code",
   "execution_count": 29,
   "metadata": {},
   "outputs": [
    {
     "data": {
      "text/plain": [
       "<function matplotlib.pyplot.show(*args, **kw)>"
      ]
     },
     "execution_count": 29,
     "metadata": {},
     "output_type": "execute_result"
    },
    {
     "data": {
      "image/png": "[encoded data removed]",
      "text/plain": [
       "<Figure size 432x288 with 1 Axes>"
      ]
     },
     "metadata": {
      "needs_background": "light"
     },
     "output_type": "display_data"
    }
   ],
   "source": [
    "def f (x):\n",
    "    return x**3 - 3*x\n",
    "import matplotlib.pyplot as plt\n",
    "x = np.linspace(-1, 1)\n",
    "y = f(x)\n",
    "plt.plot (x, y)\n",
    "plt.xlabel('x')\n",
    "plt.ylabel('y')\n",
    "plt.legend('Chart 1')\n",
    "plt.show\n",
    "\n"
   ]
  },
  {
   "cell_type": "code",
   "execution_count": 30,
   "metadata": {},
   "outputs": [
    {
     "data": {
      "text/plain": [
       "<function matplotlib.pyplot.show(*args, **kw)>"
      ]
     },
     "execution_count": 30,
     "metadata": {},
     "output_type": "execute_result"
    },
    {
     "data": {
      "image/png": "[encoded data removed]",
      "text/plain": [
       "<Figure size 432x288 with 1 Axes>"
      ]
     },
     "metadata": {
      "needs_background": "light"
     },
     "output_type": "display_data"
    }
   ],
   "source": [
    "x = np.linspace(-5, 5)\n",
    "y = f(x)\n",
    "plt.plot (x, y)\n",
    "plt.xlabel('x')\n",
    "plt.ylabel('y')\n",
    "plt.legend('Chart 1')\n",
    "plt.show"
   ]
  },
  {
   "cell_type": "code",
   "execution_count": 31,
   "metadata": {},
   "outputs": [
    {
     "data": {
      "text/plain": [
       "<function matplotlib.pyplot.show(*args, **kw)>"
      ]
     },
     "execution_count": 31,
     "metadata": {},
     "output_type": "execute_result"
    },
    {
     "data": {
      "image/png": "[encoded data removed]",
      "text/plain": [
       "<Figure size 432x288 with 1 Axes>"
      ]
     },
     "metadata": {
      "needs_background": "light"
     },
     "output_type": "display_data"
    }
   ],
   "source": [
    "x = np.linspace(-0, 5)\n",
    "y = f(x)\n",
    "plt.plot (x, y)\n",
    "plt.xlabel('x')\n",
    "plt.ylabel('y')\n",
    "plt.legend('Chart 1')\n",
    "plt.show"
   ]
  },
  {
   "cell_type": "code",
   "execution_count": 33,
   "metadata": {},
   "outputs": [
    {
     "name": "stdout",
     "output_type": "stream",
     "text": [
      "joules:  347.2222222222223 kcal:  0.08298611111111114\n"
     ]
    }
   ],
   "source": [
    "def heat (m, v):\n",
    "    m = m/1000\n",
    "    v = v*5/18\n",
    "    return m*v**2/2\n",
    "result = heat(2500, 60)\n",
    "print ('joules: ', result, 'kcal: ', 0.000239*result)\n",
    "    "
   ]
  },
  {
   "cell_type": "code",
   "execution_count": 37,
   "metadata": {},
   "outputs": [
    {
     "data": {
      "image/png": "[encoded data removed]",
      "text/plain": [
       "<Figure size 432x288 with 1 Axes>"
      ]
     },
     "metadata": {
      "needs_background": "light"
     },
     "output_type": "display_data"
    }
   ],
   "source": [
    "m = 3000\n",
    "v = np.linspace(0, 200)\n",
    "result = heat(m, v)\n",
    "plt.plot(v, result)\n",
    "plt.xlabel('v')\n",
    "plt.ylabel('Q')\n",
    "plt.show()\n"
   ]
  },
  {
   "cell_type": "code",
   "execution_count": 39,
   "metadata": {},
   "outputs": [
    {
     "data": {
      "image/png": "[encoded data removed]",
      "text/plain": [
       "<Figure size 432x288 with 1 Axes>"
      ]
     },
     "metadata": {
      "needs_background": "light"
     },
     "output_type": "display_data"
    }
   ],
   "source": [
    "plt.semilogy(v, result)\n",
    "plt.xlabel('v')\n",
    "plt.ylabel('log(Q)')\n",
    "plt.show()"
   ]
  },
  {
   "cell_type": "code",
   "execution_count": 43,
   "metadata": {},
   "outputs": [
    {
     "name": "stdout",
     "output_type": "stream",
     "text": [
      "1111\n",
      "3332\n",
      "4443\n",
      "-5575\n",
      "1-1-1-1\n",
      "2.0\n"
     ]
    }
   ],
   "source": [
    "class Quaternion:\n",
    "    def __init__ (self, e, i, j, k):\n",
    "        self.e = e\n",
    "        self.i = i\n",
    "        self.j = j\n",
    "        self.k = k\n",
    "        \n",
    "    def __str__ (self):\n",
    "        return str(self.e) + str(self.i) + str(self.j) + str(self.k)\n",
    "    \n",
    "    def __add__ (self, another):\n",
    "        return Quaternion(self.e + another.e, self.i + another.i, self.j + another.j, self.k + another.k)\n",
    "    \n",
    "    def __sub__ (self, another):\n",
    "        return Quaternion(self.e - another.e, self.i - another.i, self.j - another.j, self.k - another.k)\n",
    "    \n",
    "    def __mul__ (self, another):\n",
    "        return Quaternion(self.e*another.e - self.i*another.i - self.j*another.j - self.k*another.k,\n",
    "                         self.i*another.e + self.e*another.i + self.j*another.k - self.k*another.j,\n",
    "                         self.e*another.j - self.i*another.k + self.j*another.e + self.k*another.i,\n",
    "                         self.e*another.k + self.i*another.j - self.j*another.i + self.k*another.e)\n",
    "    \n",
    "    def conj (self):\n",
    "        return Quaternion(self.e, -self.i, -self.j, -self.k)\n",
    "    \n",
    "    def norm (self):\n",
    "        return sqrt(self.e**2 + self.i**2 + self.j**2 + self.k**2)\n",
    "    \n",
    "\n",
    "q1 = Quaternion(1, 1, 1, 1)\n",
    "q2 = Quaternion(3, 3, 3, 2)\n",
    "print (q1)\n",
    "print (q2)\n",
    "print (q1 + q2)\n",
    "print (q1 * q2)\n",
    "print (q1.conj())\n",
    "print (q1.norm())"
   ]
  },
  {
   "cell_type": "code",
   "execution_count": null,
   "metadata": {},
   "outputs": [],
   "source": []
  }
 ],
 "metadata": {
  "kernelspec": {
   "display_name": "Python 3",
   "language": "python",
   "name": "python3"
  },
  "language_info": {
   "codemirror_mode": {
    "name": "ipython",
    "version": 3
   },
   "file_extension": ".py",
   "mimetype": "text/x-python",
   "name": "python",
   "nbconvert_exporter": "python",
   "pygments_lexer": "ipython3",
   "version": "3.7.6"
  }
 },
 "nbformat": 4,
 "nbformat_minor": 4
}
